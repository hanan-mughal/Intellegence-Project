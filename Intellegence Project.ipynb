{
 "cells": [
  {
   "cell_type": "code",
   "execution_count": 6,
   "id": "01ec10cd-257f-4c27-b8c0-651516356ef0",
   "metadata": {},
   "outputs": [
    {
     "name": "stdout",
     "output_type": "stream",
     "text": [
      "Training Features Shape: (7352, 561)\n",
      "Training Labels Shape: (7352,)\n",
      "Testing Features Shape: (2947, 561)\n",
      "Testing Labels Shape: (2947,)\n"
     ]
    }
   ],
   "source": [
    "import pandas as pd\n",
    "\n",
    "# Load train and test datasets\n",
    "train_data = pd.read_csv(\"train.csv\")\n",
    "test_data = pd.read_csv(\"test.csv\")\n",
    "\n",
    "# Separate features (X) and labels (y)\n",
    "X_train = train_data.drop(columns=[\"Activity\", \"subject\"])  # Features (exclude labels and subject ID)\n",
    "y_train = train_data[\"Activity\"]  # Labels\n",
    "\n",
    "X_test = test_data.drop(columns=[\"Activity\", \"subject\"])  # Features (exclude labels and subject ID)\n",
    "y_test = test_data[\"Activity\"]  # Labels\n",
    "\n",
    "# Print shapes to verify data\n",
    "print(\"Training Features Shape:\", X_train.shape)\n",
    "print(\"Training Labels Shape:\", y_train.shape)\n",
    "print(\"Testing Features Shape:\", X_test.shape)\n",
    "print(\"Testing Labels Shape:\", y_test.shape)"
   ]
  },
  {
   "cell_type": "code",
   "execution_count": 7,
   "id": "f1f2254a-b457-4688-9faf-24f37cf3e18b",
   "metadata": {},
   "outputs": [
    {
     "name": "stdout",
     "output_type": "stream",
     "text": [
      "Model Accuracy: 92.67%\n",
      "\n",
      "Classification Report:\n",
      "                     precision    recall  f1-score   support\n",
      "\n",
      "            LAYING       1.00      1.00      1.00       537\n",
      "           SITTING       0.91      0.90      0.90       491\n",
      "          STANDING       0.91      0.92      0.91       532\n",
      "           WALKING       0.89      0.97      0.93       496\n",
      "WALKING_DOWNSTAIRS       0.97      0.87      0.92       420\n",
      "  WALKING_UPSTAIRS       0.89      0.89      0.89       471\n",
      "\n",
      "          accuracy                           0.93      2947\n",
      "         macro avg       0.93      0.92      0.93      2947\n",
      "      weighted avg       0.93      0.93      0.93      2947\n",
      "\n"
     ]
    }
   ],
   "source": [
    "from sklearn.ensemble import RandomForestClassifier\n",
    "from sklearn.metrics import accuracy_score, classification_report\n",
    "\n",
    "# Initialize the Random Forest model\n",
    "model = RandomForestClassifier(n_estimators=100, random_state=42)\n",
    "\n",
    "# Train the model\n",
    "model.fit(X_train, y_train)\n",
    "\n",
    "# Predict on test data\n",
    "y_pred = model.predict(X_test)\n",
    "\n",
    "# Evaluate the model\n",
    "accuracy = accuracy_score(y_test, y_pred)\n",
    "print(f\"Model Accuracy: {accuracy * 100:.2f}%\")\n",
    "\n",
    "# Detailed classification report\n",
    "print(\"\\nClassification Report:\\n\", classification_report(y_test, y_pred))"
   ]
  },
  {
   "cell_type": "code",
   "execution_count": 8,
   "id": "a43b5961-e7ce-42f0-82ab-e9cd9f474120",
   "metadata": {},
   "outputs": [
    {
     "name": "stdout",
     "output_type": "stream",
     "text": [
      "Model saved as 'activity_recognition_model.pkl'\n"
     ]
    }
   ],
   "source": [
    "import joblib\n",
    "\n",
    "# Save the model to a file\n",
    "joblib.dump(model, \"activity_recognition_model.pkl\")\n",
    "print(\"Model saved as 'activity_recognition_model.pkl'\")"
   ]
  },
  {
   "cell_type": "code",
   "execution_count": 9,
   "id": "f7e4b9ee-3bd8-423a-a206-0b9c64888534",
   "metadata": {},
   "outputs": [
    {
     "name": "stdout",
     "output_type": "stream",
     "text": [
      "Data standardized!\n"
     ]
    }
   ],
   "source": [
    "from sklearn.preprocessing import StandardScaler\n",
    "\n",
    "# Standardize the feature data\n",
    "scaler = StandardScaler()\n",
    "X_train = scaler.fit_transform(X_train)\n",
    "X_test = scaler.transform(X_test)\n",
    "\n",
    "print(\"Data standardized!\")"
   ]
  },
  {
   "cell_type": "code",
   "execution_count": 2,
   "id": "18e1cf8b-f6ac-4ae5-be11-246f1efb305c",
   "metadata": {},
   "outputs": [
    {
     "name": "stdout",
     "output_type": "stream",
     "text": [
      "Model v2 Accuracy: 92.87%\n",
      "\n",
      "Classification Report:\n",
      "                     precision    recall  f1-score   support\n",
      "\n",
      "            LAYING       1.00      1.00      1.00       537\n",
      "           SITTING       0.92      0.89      0.91       491\n",
      "          STANDING       0.90      0.93      0.92       532\n",
      "           WALKING       0.90      0.97      0.93       496\n",
      "WALKING_DOWNSTAIRS       0.96      0.85      0.90       420\n",
      "  WALKING_UPSTAIRS       0.89      0.92      0.90       471\n",
      "\n",
      "          accuracy                           0.93      2947\n",
      "         macro avg       0.93      0.93      0.93      2947\n",
      "      weighted avg       0.93      0.93      0.93      2947\n",
      "\n",
      "Model v2 saved as 'activity_recognition_model_v2.pkl'\n"
     ]
    }
   ],
   "source": [
    "# Import necessary libraries\n",
    "import pandas as pd\n",
    "from sklearn.ensemble import RandomForestClassifier\n",
    "from sklearn.metrics import accuracy_score, classification_report\n",
    "import joblib\n",
    "\n",
    "# Assuming train.csv and test.csv are already loaded and processed\n",
    "# Load datasets\n",
    "train_data = pd.read_csv(\"train.csv\")\n",
    "test_data = pd.read_csv(\"test.csv\")\n",
    "\n",
    "# Prepare features and labels\n",
    "X_train = train_data.drop(columns=[\"Activity\", \"subject\"])\n",
    "y_train = train_data[\"Activity\"]\n",
    "X_test = test_data.drop(columns=[\"Activity\", \"subject\"])\n",
    "y_test = test_data[\"Activity\"]\n",
    "\n",
    "# Train a new Random Forest model with updated hyperparameters\n",
    "model_v2 = RandomForestClassifier(n_estimators=200, max_depth=15, random_state=42)\n",
    "model_v2.fit(X_train, y_train)\n",
    "\n",
    "# Predict on test data\n",
    "y_pred_v2 = model_v2.predict(X_test)\n",
    "\n",
    "# Evaluate the model\n",
    "accuracy_v2 = accuracy_score(y_test, y_pred_v2)\n",
    "print(f\"Model v2 Accuracy: {accuracy_v2 * 100:.2f}%\")\n",
    "print(\"\\nClassification Report:\\n\", classification_report(y_test, y_pred_v2))\n",
    "\n",
    "# Save the updated model\n",
    "joblib.dump(model_v2, \"activity_recognition_model_v2.pkl\")\n",
    "print(\"Model v2 saved as 'activity_recognition_model_v2.pkl'\")"
   ]
  },
  {
   "cell_type": "code",
   "execution_count": null,
   "id": "a31a5c09-f251-4dcb-b275-505fc88d665b",
   "metadata": {},
   "outputs": [],
   "source": []
  }
 ],
 "metadata": {
  "kernelspec": {
   "display_name": "Python 3 (ipykernel)",
   "language": "python",
   "name": "python3"
  },
  "language_info": {
   "codemirror_mode": {
    "name": "ipython",
    "version": 3
   },
   "file_extension": ".py",
   "mimetype": "text/x-python",
   "name": "python",
   "nbconvert_exporter": "python",
   "pygments_lexer": "ipython3",
   "version": "3.11.2"
  }
 },
 "nbformat": 4,
 "nbformat_minor": 5
}
